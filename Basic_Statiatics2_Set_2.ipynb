{
 "cells": [
  {
   "cell_type": "code",
   "execution_count": 1,
   "id": "dca34c4c",
   "metadata": {},
   "outputs": [],
   "source": [
    "import pandas as pd\n",
    "import numpy as np\n",
    "import matplotlib.pyplot as plt\n",
    "import scipy.stats as stats\n",
    "import seaborn as sns\n",
    "import statsmodels.api as smf\n",
    "import warnings\n",
    "warnings.filterwarnings('ignore')"
   ]
  },
  {
   "cell_type": "markdown",
   "id": "cb554a1b",
   "metadata": {},
   "source": [
    "# QUESTION 1"
   ]
  },
  {
   "cell_type": "code",
   "execution_count": 2,
   "id": "68fc3dda",
   "metadata": {},
   "outputs": [
    {
     "name": "stdout",
     "output_type": "stream",
     "text": [
      "the probability that the service manager cannot meet his comitment is 0.26599\n"
     ]
    }
   ],
   "source": [
    "\n",
    "# the serving work will began after 10 min of drop off so 45+10\n",
    "# which will now take more than usaual time so new time is 55 minutes\n",
    "# the probanility that it will take more than 1 hour to complete\n",
    "time = 55\n",
    "std = 8 \n",
    "trans = stats.norm.sf(60,loc = time, scale = std)\n",
    "print('the probability that the service manager cannot meet his comitment is',np.round(trans,5))"
   ]
  },
  {
   "cell_type": "markdown",
   "id": "4bf52c8d",
   "metadata": {},
   "source": [
    "# QUESTION 2"
   ]
  },
  {
   "cell_type": "code",
   "execution_count": 3,
   "id": "f1dfd173",
   "metadata": {},
   "outputs": [
    {
     "name": "stdout",
     "output_type": "stream",
     "text": [
      "The probability of employee age between 38 and 44 is 34.13 %\n",
      "The probanility of employee ag more than 44 is  15.87 %\n",
      "answer: False\n",
      "A training program for employees under the age of 30 at the center would be expected to attract about 36.0 employees\n"
     ]
    }
   ],
   "source": [
    "mean = 38\n",
    "std1 = 6\n",
    "less_than_38 = stats.norm.cdf(38,loc = mean,scale =std1)\n",
    "less_than_44 = stats.norm.cdf(44,loc = mean, scale = std1)\n",
    "between_38_and_44 = (less_than_44-less_than_38)\n",
    "print('The probability of employee age between 38 and 44 is',np.round(\n",
    "      between_38_and_44*100,2),'%')\n",
    "more_than_44 = 1 - stats.norm.cdf(44,loc = mean,scale=std1)\n",
    "print('The probanility of employee ag more than 44 is ',np.round(more_than_44*100,2),'%')\n",
    "true_or_false = (more_than_44 > between_38_and_44)\n",
    "print('answer:',true_or_false)\n",
    "under_age_30 = stats.norm.cdf(30,loc = mean, scale =std1)\n",
    "print(\"\"\"A training program for employees under the age of 30 at the center\\\n",
    " would be expected to attract about\"\"\"\n",
    "      ,np.round((under_age_30*400),0),'employees')"
   ]
  },
  {
   "cell_type": "markdown",
   "id": "c7361943",
   "metadata": {},
   "source": [
    "# QUESTION 4"
   ]
  },
  {
   "cell_type": "code",
   "execution_count": 4,
   "id": "7c429cba",
   "metadata": {},
   "outputs": [
    {
     "name": "stdout",
     "output_type": "stream",
     "text": [
      "The two values of a and b, symmetric about the mean, \n",
      "      are such that the probability of the random variable \n",
      "      taking a value between them is 0.99: [ 48.5 151.5]\n"
     ]
    }
   ],
   "source": [
    "print(\"\"\"The two values of a and b, symmetric about the mean, \n",
    "      are such that the probability of the random variable \n",
    "      taking a value between them is 0.99:\"\"\",np.round(stats.norm.interval(0.99, loc = 100, scale = 20),1))"
   ]
  },
  {
   "cell_type": "markdown",
   "id": "86eec98f",
   "metadata": {},
   "source": [
    "# QUESTION 5"
   ]
  },
  {
   "cell_type": "code",
   "execution_count": 5,
   "id": "0b91aa1a",
   "metadata": {},
   "outputs": [
    {
     "name": "stdout",
     "output_type": "stream",
     "text": [
      "The Mean profit of both division 12 Millionn$\n",
      "The Mean profit of both division 54.0 Crore Rupees\n",
      "The Standard Deviation of both division: 5.0 Million$\n",
      "The Standard Deviation of both division: 22.5 Crore Rupees\n"
     ]
    }
   ],
   "source": [
    "# combine mean profit of both division for company = mean1 + mean2\n",
    "mean1 = 5\n",
    "mean2 = 7\n",
    "Mean = (mean1+mean2) # 1 usd =45 rupees\n",
    "print('The Mean profit of both division',Mean,'Millionn$')\n",
    "print('The Mean profit of both division',(Mean*45)/10,'Crore Rupees')\n",
    "# combine standard Deviation = (std1+std2)\n",
    "std1 = 3**2\n",
    "std2 = 4**2\n",
    "Std = np.sqrt(std1+std2)\n",
    "print('The Standard Deviation of both division:', Std, 'Million$')\n",
    "print('The Standard Deviation of both division:', (Std*45)/10, 'Crore Rupees')     "
   ]
  },
  {
   "cell_type": "markdown",
   "id": "d2b47542",
   "metadata": {},
   "source": [
    " # QUESTION 5A"
   ]
  },
  {
   "cell_type": "code",
   "execution_count": 10,
   "id": "47114920",
   "metadata": {},
   "outputs": [
    {
     "name": "stdout",
     "output_type": "stream",
     "text": [
      "Rupee Rnages from  -3.68 to 27.68 Millions$ in Annual profit of the company 95% of the time\n",
      "Rupee Ranges from -16.56 to 124.55999999999999 Crore Rupees in Annual profit of the company 95% of the time\n"
     ]
    }
   ],
   "source": [
    "r1,r2 = np.round(stats.norm.interval(0.95,Mean,std),2)\n",
    "print('Rupee Rnages from ',r1,'to',r2,'Millions$ in Annual profit of the company 95% of the time')\n",
    "print('Rupee Ranges from' ,np.divide(np.multiply(r1,45),10),'to',np.divide(np.multiply(r2,45),10),'Crore Rupees in Annual profit of the company 95% of the time')"
   ]
  },
  {
   "cell_type": "markdown",
   "id": "6e8a174f",
   "metadata": {},
   "source": [
    "# QUESTION 5B"
   ]
  },
  {
   "cell_type": "code",
   "execution_count": 11,
   "id": "e09608be",
   "metadata": {},
   "outputs": [
    {
     "name": "stdout",
     "output_type": "stream",
     "text": [
      "The 5th percentile of Profit for the company is 3.78 Million$\n",
      "The 5th percentile of Profit for the company is 17.0 Crore Rupees\n"
     ]
    }
   ],
   "source": [
    "# Z value  = X_bar - Mew / Std pop \n",
    "# for percentile, X_percentile = (Zvalue * Std pop) + Mew\n",
    "Z_05_ = stats.norm.ppf(0.05)\n",
    "Fifth_percentile = (Z_05_ * Std) + Mean\n",
    "print('The 5th percentile of Profit for the company is',np.round(Fifth_percentile,2),'Million$')\n",
    "print('The 5th percentile of Profit for the company is',np.round((Fifth_percentile*45)/10,),'Crore Rupees')"
   ]
  },
  {
   "cell_type": "markdown",
   "id": "9be15bcd",
   "metadata": {},
   "source": [
    "# QUESTION 5C"
   ]
  },
  {
   "cell_type": "code",
   "execution_count": 12,
   "id": "a1769408",
   "metadata": {},
   "outputs": [
    {
     "name": "stdout",
     "output_type": "stream",
     "text": [
      "The Probability of Division #1 making a loss is 4.78 %\n",
      "The Probability of Division #2 making a loss is 4.01 %\n",
      "The Division 1 has a larger Probability of making a loss\n"
     ]
    }
   ],
   "source": [
    "# The probability of Division #1 making a loss\n",
    "print('The Probability of Division #1 making a loss is',np.round((stats.norm.cdf(0,5,3))*100,2),'%')\n",
    "\n",
    "# The probability of Division #2 making a loss\n",
    "print('The Probability of Division #2 making a loss is',np.round((stats.norm.cdf(0,7,4))*100,2),'%')\n",
    "\n",
    "Division_1 = (stats.norm.cdf(0,5,3))*100\n",
    "Division_2 = (stats.norm.cdf(0,7,4))*100\n",
    "\n",
    "if Division_1>Division_2:\n",
    "    print('The Division 1 has a larger Probability of making a loss')\n",
    "else:\n",
    "          print('The Division 2 has a larger Porbability of making a loss')"
   ]
  },
  {
   "cell_type": "code",
   "execution_count": null,
   "id": "144d0e40",
   "metadata": {},
   "outputs": [],
   "source": []
  }
 ],
 "metadata": {
  "kernelspec": {
   "display_name": "Python 3 (ipykernel)",
   "language": "python",
   "name": "python3"
  },
  "language_info": {
   "codemirror_mode": {
    "name": "ipython",
    "version": 3
   },
   "file_extension": ".py",
   "mimetype": "text/x-python",
   "name": "python",
   "nbconvert_exporter": "python",
   "pygments_lexer": "ipython3",
   "version": "3.9.13"
  }
 },
 "nbformat": 4,
 "nbformat_minor": 5
}
